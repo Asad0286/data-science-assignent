{
 "cells": [
  {
   "cell_type": "code",
   "execution_count": 19,
   "metadata": {},
   "outputs": [
    {
     "name": "stdout",
     "output_type": "stream",
     "text": [
      "Assalam o Alaikum\n"
     ]
    }
   ],
   "source": [
    "print(\"Assalam o Alaikum\");\n"
   ]
  },
  {
   "cell_type": "code",
   "execution_count": 8,
   "metadata": {},
   "outputs": [
    {
     "name": "stdout",
     "output_type": "stream",
     "text": [
      "Twinkle Twinkle littale star\n",
      "        How i wonderWhat you are!\n",
      "              Up above the words so high \n",
      "              Like a dimond in the sky \n",
      "Twinkle Twinkle littale star\n",
      "        How i wonderWhat you are!\n"
     ]
    }
   ],
   "source": [
    "a= \"Twinkle \";\n",
    "b= \"littale star\";\n",
    "c= \"        How i wonder\";\n",
    "d= \"What you are!\";\n",
    "e= \"              Up above the\";\n",
    "f= \" words so high \";\n",
    "g= \"              Like a dimond\";\n",
    "h= \" in the sky \";\n",
    "print( a+ a+ b);\n",
    "print(c+ d);\n",
    "print(e+ f);\n",
    "print(g+ h);\n",
    "print(a+ a+ b);\n",
    "print(c+ d);"
   ]
  },
  {
   "cell_type": "code",
   "execution_count": 14,
   "metadata": {},
   "outputs": [
    {
     "name": "stdout",
     "output_type": "stream",
     "text": [
      "Enter first name: asad\n",
      "Enter last name: re\n",
      "re asad\n"
     ]
    }
   ],
   "source": [
    "a= input(\"Enter first name: \");\n",
    "b= input(\"Enter last name: \");\n",
    "print (b, a);"
   ]
  },
  {
   "cell_type": "code",
   "execution_count": 19,
   "metadata": {},
   "outputs": [
    {
     "name": "stdout",
     "output_type": "stream",
     "text": [
      "Enter first digit: 2\n",
      "Enter 2nd digit: 2\n",
      "sum=  4.0\n"
     ]
    }
   ],
   "source": [
    "a= float(input(\"Enter first digit: \"));\n",
    "b= float(input(\"Enter 2nd digit: \"));\n",
    "c= a+b;\n",
    "print(\"sum= \",c);\n"
   ]
  },
  {
   "cell_type": "code",
   "execution_count": 25,
   "metadata": {},
   "outputs": [
    {
     "name": "stdout",
     "output_type": "stream",
     "text": [
      " python version::  3.7.6 (default, Jan  8 2020, 20:23:39) [MSC v.1916 64 bit (AMD64)]\n",
      "version info:: sys.version_info(major=3, minor=7, micro=6, releaselevel='final', serial=0)\n"
     ]
    }
   ],
   "source": [
    "import sys\n",
    "print (\" python version:: \" , sys.version);\n",
    "print (\"version info::\" , sys.version_info);"
   ]
  },
  {
   "cell_type": "code",
   "execution_count": 3,
   "metadata": {},
   "outputs": [
    {
     "name": "stdout",
     "output_type": "stream",
     "text": [
      "current date and time is:\n",
      "01- 01- 22 17:36:46:\n"
     ]
    }
   ],
   "source": [
    "import datetime\n",
    "now = datetime . datetime . now()\n",
    "print ( \"current date and time is:\" )\n",
    "print( now . strftime(\"%d- %m- %y %H:%M:%S:\") )\n"
   ]
  },
  {
   "cell_type": "code",
   "execution_count": 2,
   "metadata": {},
   "outputs": [
    {
     "name": "stdout",
     "output_type": "stream",
     "text": [
      "enter the radius ofthe circle:.9\n",
      "area of the cirle is: 2.5446900494077327\n"
     ]
    }
   ],
   "source": [
    "import math \n",
    "radius = float(input(\"enter the radius ofthe circle:\"))\n",
    "\n",
    "area = math.pi * radius *radius\n",
    "\n",
    "print (\"area of the cirle is:\",area)"
   ]
  },
  {
   "cell_type": "code",
   "execution_count": null,
   "metadata": {},
   "outputs": [],
   "source": []
  }
 ],
 "metadata": {
  "kernelspec": {
   "display_name": "Python 3",
   "language": "python",
   "name": "python3"
  },
  "language_info": {
   "codemirror_mode": {
    "name": "ipython",
    "version": 3
   },
   "file_extension": ".py",
   "mimetype": "text/x-python",
   "name": "python",
   "nbconvert_exporter": "python",
   "pygments_lexer": "ipython3",
   "version": "3.7.6"
  }
 },
 "nbformat": 4,
 "nbformat_minor": 4
}
